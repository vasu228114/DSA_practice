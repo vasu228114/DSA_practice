{
 "cells": [
  {
   "cell_type": "code",
   "execution_count": 2,
   "metadata": {},
   "outputs": [
    {
     "data": {
      "text/plain": [
       "[9, 13, 20, 24, 46, 52]"
      ]
     },
     "execution_count": 2,
     "metadata": {},
     "output_type": "execute_result"
    }
   ],
   "source": [
    "# Selection sort\n",
    "# all we have to do is, select the minimum and swap\n",
    "from typing import List\n",
    "def selection_sort(arr: List):\n",
    "    n = len(arr)\n",
    "    for i in range(n):\n",
    "        min_idx = i\n",
    "        for j in range(i+1, n):\n",
    "            if arr[j] < arr[min_idx]: min_idx = j\n",
    "        arr[i], arr[min_idx] = arr[min_idx], arr[i]\n",
    "    return arr\n",
    "selection_sort([13, 46, 24, 52, 20, 9])"
   ]
  },
  {
   "cell_type": "code",
   "execution_count": 8,
   "metadata": {},
   "outputs": [
    {
     "data": {
      "text/plain": [
       "[9, 13, 20, 24, 46, 52, 58]"
      ]
     },
     "execution_count": 8,
     "metadata": {},
     "output_type": "execute_result"
    }
   ],
   "source": [
    "# Bubble sort\n",
    "# Push the max element to the last and only do this by comparing adjacent elements (2 elements at a time)\n",
    "from typing import List\n",
    "def bubble_sort(arr: List):\n",
    "    n = len(arr)\n",
    "    for i in range(n):\n",
    "        for j in range(1, n-i):\n",
    "            if arr[j-1] > arr[j]: arr[j-1], arr[j] = arr[j], arr[j-1]\n",
    "    return arr\n",
    "bubble_sort([13, 46, 24, 52, 20, 9, 58])"
   ]
  },
  {
   "cell_type": "code",
   "execution_count": 2,
   "metadata": {},
   "outputs": [
    {
     "data": {
      "text/plain": [
       "[9, 13, 20, 24, 46, 52]"
      ]
     },
     "execution_count": 2,
     "metadata": {},
     "output_type": "execute_result"
    }
   ],
   "source": [
    "# Insertion sort\n",
    "# Take an element and place it in it's correct position.\n",
    "# It is like sliding window concept by 1\n",
    "from typing import List\n",
    "def insertion_sort(arr: List):\n",
    "    n = len(arr)\n",
    "    for i in range(1, n):\n",
    "        key = arr[i]\n",
    "        j = i-1\n",
    "        while j >= 0 and arr[j] > key:\n",
    "            arr[j+1] = arr[j]\n",
    "            j -= 1\n",
    "        arr[j+1] = key\n",
    "    return arr\n",
    "insertion_sort([13, 46, 24, 52, 20, 9])\n"
   ]
  },
  {
   "cell_type": "code",
   "execution_count": 3,
   "metadata": {},
   "outputs": [
    {
     "data": {
      "text/plain": [
       "[9, 13, 20, 24, 46, 52]"
      ]
     },
     "execution_count": 3,
     "metadata": {},
     "output_type": "execute_result"
    }
   ],
   "source": [
    "from typing import List\n",
    "def insertion_sort(arr: List):\n",
    "    n = len(arr)\n",
    "    for i in range(n):\n",
    "        key = arr[i]\n",
    "        j = i-1\n",
    "        while j >= 0 and arr[j] > key:\n",
    "            arr[j+1]= arr[j]\n",
    "            j -= 1\n",
    "        arr[j+1] = key\n",
    "    return arr\n",
    "insertion_sort([13, 46, 24, 52, 20, 9])"
   ]
  },
  {
   "cell_type": "code",
   "execution_count": 5,
   "metadata": {},
   "outputs": [
    {
     "data": {
      "text/plain": [
       "[9, 13, 20, 24, 46, 52]"
      ]
     },
     "execution_count": 5,
     "metadata": {},
     "output_type": "execute_result"
    }
   ],
   "source": [
    "from typing import List\n",
    "def selection_sort2(arr: List): # select min and swap that with value of 'i'\n",
    "    n = len(arr)\n",
    "    for i in range(n):\n",
    "        min_idx = i\n",
    "        for j in range(i, n):\n",
    "            if arr[min_idx] > arr[j]: min_idx = j\n",
    "        arr[i], arr[min_idx]= arr[min_idx] , arr[i]\n",
    "    return arr\n",
    "selection_sort2([13, 46, 24, 52, 20, 9])"
   ]
  },
  {
   "cell_type": "code",
   "execution_count": 12,
   "metadata": {},
   "outputs": [
    {
     "data": {
      "text/plain": [
       "[-1, 1, 2, 4, 5, 8]"
      ]
     },
     "execution_count": 12,
     "metadata": {},
     "output_type": "execute_result"
    }
   ],
   "source": [
    "from typing import List\n",
    "def bubble_sort2(arr: List):\n",
    "    n = len(arr)\n",
    "    for i in range(n):\n",
    "        for j in range(i, n):\n",
    "            if arr[j] < arr[i]: arr[i], arr[j] = arr[j], arr[i]\n",
    "    return arr\n",
    "# bubble_sort2([13, 46, 24, 52, 28, 20, 9, 58])\n",
    "bubble_sort2([5, 1, 4, -1, 2, 8])"
   ]
  },
  {
   "cell_type": "code",
   "execution_count": null,
   "metadata": {},
   "outputs": [],
   "source": [
    "# merge sort\n",
    "from typing import List\n",
    "def merge_sort(arr: List, l: int, r: int):\n",
    "    if l < r:\n",
    "        mid = (l+r)//2\n",
    "        merge_sort(arr, l, mid)\n",
    "        merge_sort(arr, mid+1, r)\n",
    "        merge(arr, l, mid, r)\n",
    "def merge(arr: List, l: int, mid: int, r: int):\n",
    "    n1 = mid-l\n",
    "    n2 = mid+1-r\n",
    "\n",
    "    i, j = 0, 0\n",
    "    "
   ]
  }
 ],
 "metadata": {
  "kernelspec": {
   "display_name": "base",
   "language": "python",
   "name": "python3"
  },
  "language_info": {
   "codemirror_mode": {
    "name": "ipython",
    "version": 3
   },
   "file_extension": ".py",
   "mimetype": "text/x-python",
   "name": "python",
   "nbconvert_exporter": "python",
   "pygments_lexer": "ipython3",
   "version": "3.8.8"
  },
  "orig_nbformat": 4
 },
 "nbformat": 4,
 "nbformat_minor": 2
}
