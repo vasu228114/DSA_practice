{
 "cells": [
  {
   "cell_type": "code",
   "execution_count": 3,
   "metadata": {},
   "outputs": [
    {
     "name": "stdout",
     "output_type": "stream",
     "text": [
      "vasu\n",
      "vasu\n",
      "vasu\n",
      "vasu\n",
      "vasu\n"
     ]
    }
   ],
   "source": [
    "def print_name(n: int):\n",
    "    if n == 0: return\n",
    "    print('vasu')\n",
    "    print_name(n-1)\n",
    "print_name(5)"
   ]
  },
  {
   "cell_type": "code",
   "execution_count": 1,
   "metadata": {},
   "outputs": [
    {
     "name": "stdout",
     "output_type": "stream",
     "text": [
      "1\n",
      "2\n",
      "3\n",
      "4\n",
      "5\n"
     ]
    }
   ],
   "source": [
    "def print_1_to_n(n: int, tmp: int=0):\n",
    "    if tmp == n: return\n",
    "    tmp += 1\n",
    "    print(tmp)\n",
    "    print_1_to_n(n, tmp)\n",
    "print_1_to_n(5)"
   ]
  },
  {
   "cell_type": "code",
   "execution_count": 2,
   "metadata": {},
   "outputs": [
    {
     "name": "stdout",
     "output_type": "stream",
     "text": [
      "5\n",
      "4\n",
      "3\n",
      "2\n",
      "1\n"
     ]
    }
   ],
   "source": [
    "\n",
    "def print_n_to_1(n: int):\n",
    "    if n == 0: return\n",
    "    print(n)\n",
    "    return print_n_to_1(n-1)\n",
    "print_n_to_1(5)"
   ]
  },
  {
   "cell_type": "code",
   "execution_count": 37,
   "metadata": {},
   "outputs": [
    {
     "data": {
      "text/plain": [
       "15"
      ]
     },
     "execution_count": 37,
     "metadata": {},
     "output_type": "execute_result"
    }
   ],
   "source": [
    "\n",
    "# the more easier way is to use the formula (n*(n+1))//2 : O(1)\n",
    "def sum_n2(n: int):\n",
    "    return (n*(n+1))//2\n",
    "sum_n2(5)\n"
   ]
  },
  {
   "cell_type": "code",
   "execution_count": 8,
   "metadata": {},
   "outputs": [
    {
     "data": {
      "text/plain": [
       "15"
      ]
     },
     "execution_count": 8,
     "metadata": {},
     "output_type": "execute_result"
    }
   ],
   "source": [
    "def sum_n(n: int, sum: int=0):\n",
    "    if n == 0: return sum\n",
    "    sum += n\n",
    "    # print(sum) # if we use this print it will print the entire series\n",
    "    return sum_n(n-1, sum)\n",
    "sum_n(5)\n"
   ]
  },
  {
   "cell_type": "code",
   "execution_count": 13,
   "metadata": {},
   "outputs": [
    {
     "data": {
      "text/plain": [
       "120"
      ]
     },
     "execution_count": 13,
     "metadata": {},
     "output_type": "execute_result"
    }
   ],
   "source": [
    "def fact_n1(n: int):\n",
    "    res = 1 # for n = 0, 1 fact is 1\n",
    "    for i in range(2, n+1):\n",
    "        res *= i\n",
    "    return res\n",
    "fact_n1(5)\n",
    "\n",
    "def fact_n2(n: int, res: int=1):\n",
    "    if n == 0: return res\n",
    "    res *= n\n",
    "    return fact_n2(n-1, res)\n",
    "fact_n2(5)\n",
    "\n",
    "def fact_n3(n: int):\n",
    "    if n == 0: return 1\n",
    "    return n * fact_n3(n-1)\n",
    "fact_n3(5)"
   ]
  },
  {
   "cell_type": "code",
   "execution_count": 27,
   "metadata": {},
   "outputs": [
    {
     "data": {
      "text/plain": [
       "[4, 3, 2, 1, 0]"
      ]
     },
     "execution_count": 27,
     "metadata": {},
     "output_type": "execute_result"
    }
   ],
   "source": [
    "from typing import List\n",
    "def reverse_arr1(arr: List[int]): # 2 pointer method\n",
    "    l, r = 0, len(arr)-1\n",
    "    while l < r:\n",
    "        arr[l], arr[r] = arr[r], arr[l]\n",
    "        l += 1\n",
    "        r -= 1\n",
    "    return arr\n",
    "reverse_arr1([i for i in range(5)])\n",
    "\n",
    "def reverse_arr2(arr: List[int], l: int, r: int):\n",
    "    if l >= r: return arr\n",
    "    elif l < r:\n",
    "        arr[l], arr[r] = arr[r], arr[l]\n",
    "        # print(arr)\n",
    "        return reverse_arr2(arr, l+1, r-1)\n",
    "reverse_arr2([i for i in range(5)], 0 , 4)"
   ]
  },
  {
   "cell_type": "code",
   "execution_count": 47,
   "metadata": {},
   "outputs": [
    {
     "data": {
      "text/plain": [
       "False"
      ]
     },
     "execution_count": 47,
     "metadata": {},
     "output_type": "execute_result"
    }
   ],
   "source": [
    "def palindrome_1(s: str): # 2 pointer approach\n",
    "    l, r = 0, len(s)-1\n",
    "    while l < r:\n",
    "        if s[l] != s[r]: return False\n",
    "        l += 1\n",
    "        r -= 1\n",
    "    return True\n",
    "palindrome_1('aabbaa')\n",
    "\n",
    "# solving palindrome problem using recursion\n",
    "def reverse_lst(lst: List, l: int, r: int):\n",
    "    if l >= r: return lst\n",
    "    elif l < r:\n",
    "        lst[l], lst[r] = lst[r], lst[l]\n",
    "        l += 1\n",
    "        r -= 1\n",
    "        return reverse_lst(lst, l, r)\n",
    "def palindrome_check_2(s: str):\n",
    "    reversed_str = reverse_lst(list(s), 0, len(s)-1)\n",
    "    if list(s) == reversed_str: return True\n",
    "    return False\n",
    "palindrome_check_2('vasu')"
   ]
  },
  {
   "cell_type": "code",
   "execution_count": 58,
   "metadata": {},
   "outputs": [
    {
     "data": {
      "text/plain": [
       "True"
      ]
     },
     "execution_count": 58,
     "metadata": {},
     "output_type": "execute_result"
    }
   ],
   "source": [
    "def palindrome_3(lst: List, l: int, r: int):\n",
    "    if l >= r: return True\n",
    "    elif l < r:\n",
    "        if lst[l] != lst[r]: return False\n",
    "        return palindrome_3(lst, l+1, r-1)\n",
    "string = 'aba'\n",
    "palindrome_3(list(string), 0, len(string)-1)"
   ]
  },
  {
   "cell_type": "code",
   "execution_count": 55,
   "metadata": {},
   "outputs": [
    {
     "data": {
      "text/plain": [
       "13"
      ]
     },
     "execution_count": 55,
     "metadata": {},
     "output_type": "execute_result"
    }
   ],
   "source": [
    "# 0, 1, 1, 2, 3, 5, 8, 13, 21...\n",
    "def fibonacci(n: int):\n",
    "    if n == 1: return 0\n",
    "    elif n == 2: return 1\n",
    "    else:\n",
    "        fib_series_old1, fib_series_old2 = 0, 1\n",
    "        for i in range(3, n+1):\n",
    "            res = fib_series_old1 + fib_series_old2\n",
    "            fib_series_old1, fib_series_old2 = fib_series_old2, res\n",
    "        return res\n",
    "fibonacci(7)\n",
    "\n",
    "def fibonacci2(n: int, last: int=0, second_last: int=1, res: int=0):\n",
    "    if n == 0: return last\n",
    "    elif n == 1: return second_last\n",
    "    elif n == 2: return res\n",
    "    res = last + second_last\n",
    "    return fibonacci2(n-1, second_last, res, res)\n",
    "fibonacci2(8)"
   ]
  },
  {
   "cell_type": "code",
   "execution_count": null,
   "metadata": {},
   "outputs": [],
   "source": []
  }
 ],
 "metadata": {
  "kernelspec": {
   "display_name": "base",
   "language": "python",
   "name": "python3"
  },
  "language_info": {
   "codemirror_mode": {
    "name": "ipython",
    "version": 3
   },
   "file_extension": ".py",
   "mimetype": "text/x-python",
   "name": "python",
   "nbconvert_exporter": "python",
   "pygments_lexer": "ipython3",
   "version": "3.8.8"
  },
  "orig_nbformat": 4
 },
 "nbformat": 4,
 "nbformat_minor": 2
}
