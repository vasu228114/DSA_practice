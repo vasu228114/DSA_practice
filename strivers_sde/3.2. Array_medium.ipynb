{
 "cells": [
  {
   "cell_type": "code",
   "execution_count": 16,
   "metadata": {},
   "outputs": [
    {
     "data": {
      "text/plain": [
       "'Indexes: 1, 2; Values: 6, 0'"
      ]
     },
     "execution_count": 16,
     "metadata": {},
     "output_type": "execute_result"
    }
   ],
   "source": [
    "# two sum Problem  \n",
    "from typing import List\n",
    "def two_sum(arr: List, k: int):\n",
    "    # tc: O(n^2);\n",
    "    # sc: O(1)\n",
    "    n = len(arr)\n",
    "    for i in range(n):\n",
    "        for j in range(i+1, n):\n",
    "            if arr[i] + arr[j] == k: return f\"Indexes: {i}, {j}; Values: {arr[i]}, {arr[j]}\"\n",
    "    return -1, -1\n",
    "two_sum([3,2,4], 6)\n",
    "\n",
    "def two_sum(arr: List, k: int):\n",
    "    # tc: O(n)\n",
    "    # sc: O(n)\n",
    "    d = {}\n",
    "    for idx, val in enumerate(arr):\n",
    "        if k-val in d: return f\"Indexes: {d[k-val]}, {idx}; Values: {k-val}, {val}\"\n",
    "        else: d[val] = idx\n",
    "    return -1, -1\n",
    "two_sum([3,6,0,2,4,2], 6)"
   ]
  },
  {
   "cell_type": "code",
   "execution_count": 36,
   "metadata": {},
   "outputs": [
    {
     "data": {
      "text/plain": [
       "[0, 0, 1, 1, 2, 2]"
      ]
     },
     "execution_count": 36,
     "metadata": {},
     "output_type": "execute_result"
    }
   ],
   "source": [
    "# Sort an array of 0s, 1s and 2s\n",
    "from typing import List\n",
    "def sort_array(arr: List[int]):\n",
    "    # initial approach is count 0's, 1's and 2's and \n",
    "    # replace the elements that are currently there in the list\n",
    "    count_0, count_1 = 0, 0\n",
    "    for val in arr:\n",
    "        if val == 0: count_0 += 1\n",
    "        elif val == 1: count_1 += 1\n",
    "\n",
    "    for i in range(count_0):\n",
    "        arr[i] = 0\n",
    "    \n",
    "    # print(count_0)\n",
    "    for i in range(count_0, count_1+count_0):\n",
    "        arr[i] = 1\n",
    "    \n",
    "    # print(count_0+count_1, len(arr)-count_1)\n",
    "    for i in range(count_0+count_1, len(arr)):\n",
    "        arr[i] = 2\n",
    "    return arr\n",
    "sort_array([2,0,2,1,1,0])\n",
    "\n",
    "def sort_array(arr: List[int]):\n",
    "    # refer to striver's video\n",
    "    # this algo is called as dutch national flag algo\n",
    "    l, m, h = 0, 0, len(arr)-1\n",
    "    while m <= h:\n",
    "        if arr[m] == 0:\n",
    "            arr[l], arr[m] = arr[m], arr[l]\n",
    "            l += 1\n",
    "            m += 1\n",
    "        elif arr[m]== 1: m += 1\n",
    "        else:\n",
    "            arr[h], arr[m] = arr[m], arr[h]\n",
    "            h -= 1\n",
    "    return arr\n",
    "sort_array([2,0,2,1,1,0])"
   ]
  },
  {
   "cell_type": "code",
   "execution_count": 10,
   "metadata": {},
   "outputs": [
    {
     "data": {
      "text/plain": [
       "1"
      ]
     },
     "execution_count": 10,
     "metadata": {},
     "output_type": "execute_result"
    }
   ],
   "source": [
    "# find the element in an array of size 'n' which occurs more than n//2 times\n",
    "from typing import List\n",
    "def majority_element(arr: List):\n",
    "    # tc: O(n+d)\n",
    "    # sc: O(d)\n",
    "    d = {}\n",
    "    for val in arr:\n",
    "        d[val] = d.get(val, 0) + 1\n",
    "\n",
    "    n = len(arr)\n",
    "    for val in d:\n",
    "        if val > n//2: return f\"the value is: {val}, and it's count is: {d[val]}\"\n",
    "    return -1, -1\n",
    "majority_element([3,2,3])\n",
    "\n",
    "def majority_element(arr: List):\n",
    "    # using Moore's voting algo\n",
    "    # tc: O(n)\n",
    "    # sc: O(1)\n",
    "    count = 0\n",
    "    ele = None\n",
    "    for val in arr:\n",
    "        # print(ele, count)\n",
    "        if count == 0: \n",
    "            ele = val\n",
    "            count += 1\n",
    "        elif val != ele: count -= 1\n",
    "    if count > 0: return ele\n",
    "    else: return 'There is no element which occurs more than n//2 times'\n",
    "majority_element([3,3,2])\n",
    "majority_element([2, 2, 1, 1, 1, 2, 1])"
   ]
  },
  {
   "cell_type": "code",
   "execution_count": 14,
   "metadata": {},
   "outputs": [
    {
     "data": {
      "text/plain": [
       "1"
      ]
     },
     "execution_count": 14,
     "metadata": {},
     "output_type": "execute_result"
    }
   ],
   "source": [
    "# maximum sub array sum\n",
    "from typing import List\n",
    "def max_sub_array_sum(arr: List[int]):\n",
    "    # tc: O(n^2)\n",
    "    # sc: O(1)\n",
    "    import sys\n",
    "    max_sum = -1*sys.maxsize\n",
    "    for i in range(len(arr)):\n",
    "        sum = 0\n",
    "        for j in range(i, len(arr)):\n",
    "            sum += arr[j]\n",
    "            max_sum = max(max_sum, sum)\n",
    "    return max_sum\n",
    "max_sub_array_sum([-2,1,-3,4,-1,2,1,-5,4])\n",
    "\n",
    "def max_sub_array_sum(arr: List[int]):\n",
    "    # using kadane's algo\n",
    "    # tc: O(n)\n",
    "    # sc: O(1)\n",
    "    import sys\n",
    "    max_sum = -1*sys.maxsize\n",
    "    tmp = 0\n",
    "    for val in arr:\n",
    "        if tmp < 0: tmp = 0\n",
    "        tmp += val\n",
    "        max_sum = max(max_sum, tmp)\n",
    "    if max_sum < 0: return None \n",
    "    return max_sum\n",
    "max_sub_array_sum([-2,1,-3,4,-1,2,1,-5,4])\n",
    "max_sub_array_sum([1])"
   ]
  },
  {
   "cell_type": "code",
   "execution_count": 16,
   "metadata": {},
   "outputs": [
    {
     "data": {
      "text/plain": [
       "(6, [4, -1, 2, 1], 3, 6)"
      ]
     },
     "execution_count": 16,
     "metadata": {},
     "output_type": "execute_result"
    }
   ],
   "source": [
    "from typing import List\n",
    "def sub_array_with_max_sum(arr: List[int]):\n",
    "    # using Kadane's algo\n",
    "    # tc: O(n)\n",
    "    # sc: O(1)\n",
    "    import sys\n",
    "    max_sum = -1 * sys.maxsize\n",
    "    tmp = 0\n",
    "    i, j = 0, 0\n",
    "    for idx, val in enumerate(arr):\n",
    "        if tmp < 0: \n",
    "            tmp = 0\n",
    "            i = idx\n",
    "        tmp += val\n",
    "        if max_sum < tmp:\n",
    "            max_sum = tmp\n",
    "            j = idx\n",
    "    return max_sum, arr[i:j+1], i, j\n",
    "sub_array_with_max_sum([-2,1,-3,4,-1,2,1,-5,4])"
   ]
  },
  {
   "cell_type": "code",
   "execution_count": null,
   "metadata": {},
   "outputs": [],
   "source": []
  },
  {
   "cell_type": "code",
   "execution_count": 17,
   "metadata": {},
   "outputs": [
    {
     "data": {
      "text/plain": [
       "Counter({0: 1, 1: 1, 2: 1, 3: 1})"
      ]
     },
     "execution_count": 17,
     "metadata": {},
     "output_type": "execute_result"
    }
   ],
   "source": [
    "from collections import Counter\n",
    "d = Counter([i for i in range(4)])\n",
    "d"
   ]
  },
  {
   "cell_type": "code",
   "execution_count": 22,
   "metadata": {},
   "outputs": [
    {
     "name": "stdout",
     "output_type": "stream",
     "text": [
      "0 1\n"
     ]
    }
   ],
   "source": [
    "arr = [i for i in range(5)]\n",
    "d = {}\n",
    "for val in arr:\n",
    "    d[val] = d.get(val, 0) + 1\n",
    "for key, val in d.items():\n",
    "    if val == 1: \n",
    "        print(key, val)\n",
    "        break"
   ]
  },
  {
   "cell_type": "code",
   "execution_count": null,
   "metadata": {},
   "outputs": [],
   "source": [
    "# Xor\n",
    "# 1 ^ 1 = 0\n",
    "# 0 ^ 0 = 0\n",
    "# 0 ^ 1 = 1\n",
    "# 1 ^ 0 = 1\n",
    "#### a ^ a ^ b = b\n",
    "# 3 -> 011\n",
    "# 5 -> 101\n",
    "# 110 -> 6\n",
    "# [1,2,2]\n",
    "# 1 -> 01\n",
    "# 2 -> 10\n",
    "# 11 -> 3\n",
    "arr = [1,2,2,1,3,5,3]\n",
    "res = 0\n",
    "for val in arr:\n",
    "    res = res ^ val\n",
    "print(res)"
   ]
  },
  {
   "cell_type": "code",
   "execution_count": 24,
   "metadata": {},
   "outputs": [
    {
     "data": {
      "text/plain": [
       "[0, 1, 2, 3, 4]"
      ]
     },
     "execution_count": 24,
     "metadata": {},
     "output_type": "execute_result"
    }
   ],
   "source": [
    "# [1,2,3,4,5]\n",
    "arr"
   ]
  },
  {
   "cell_type": "code",
   "execution_count": 7,
   "metadata": {},
   "outputs": [
    {
     "data": {
      "text/plain": [
       "5"
      ]
     },
     "execution_count": 7,
     "metadata": {},
     "output_type": "execute_result"
    }
   ],
   "source": [
    "from typing import List\n",
    "def stock_buy_sell(arr: List[int]) -> int:\n",
    "    # sc: O(n^2)\n",
    "    # tc: O(1)\n",
    "    n = len(arr)\n",
    "    profit = 0\n",
    "    for i in range(n):\n",
    "        buy = arr[i]\n",
    "        for j in range(i+1, n):\n",
    "            profit = max(arr[j] - buy, profit)\n",
    "    return profit\n",
    "stock_buy_sell([7,1,5,3,6,4])\n",
    "\n",
    "def stock_buy_sell(arr: List[int]) -> int:\n",
    "    # sc: O(n)\n",
    "    # tc: O(1)\n",
    "    n = len(arr)\n",
    "    min_val = arr[0]\n",
    "    profit = 0\n",
    "    for i in range(1, n):\n",
    "        profit = max(arr[i]-min_val, profit)\n",
    "        min_val = min(min_val, arr[i])\n",
    "    return profit\n",
    "stock_buy_sell([7,1,5,3,6,4])"
   ]
  },
  {
   "cell_type": "code",
   "execution_count": 9,
   "metadata": {},
   "outputs": [
    {
     "data": {
      "text/plain": [
       "[9, -2, 4, -1, 5, -5, 0, -3, 2, -15, -20, -25]"
      ]
     },
     "execution_count": 9,
     "metadata": {},
     "output_type": "execute_result"
    }
   ],
   "source": [
    "# def rearrange(arr, n):\n",
    "#     # code here\n",
    "#     pos = []\n",
    "#     neg = []\n",
    "#     for val in arr:\n",
    "#         if val < 0: neg.append(val)\n",
    "#         else: pos.append(val)\n",
    "    \n",
    "#     for i in range(0, len(arr), 2):\n",
    "#         arr[i] = pos[i]\n",
    "#         arr[i+1] = neg[i+1]\n",
    "#     return arr\n",
    "\n",
    "from typing import List\n",
    "def rearrange(arr: List[int], n: int):\n",
    "    # in this we are assuming that pos == neg\n",
    "    # sc: O(n)\n",
    "    # tc: O(n)\n",
    "    pos, neg = 0, 1\n",
    "    res = [None] * n\n",
    "    for val in arr:\n",
    "        if val >= 0:\n",
    "            res[pos] = val\n",
    "            pos += 2\n",
    "        else:\n",
    "            res[neg] = val\n",
    "            neg += 2\n",
    "    return res\n",
    "arr = list(map(int, '9 4 -2 -1 5 0 -5 -3 2'.split()))\n",
    "rearrange(arr, len(arr))\n",
    "\n",
    "def rearrange2(arr: List[int], n: int):\n",
    "    # in this we don't assume that there are equal no.of pos and neg\n",
    "    # sc: O(2n)\n",
    "    # tc: O(n)\n",
    "    pos = []\n",
    "    neg = []\n",
    "    res = [None] * n\n",
    "    for val in arr:\n",
    "        if val >= 0: pos.append(val)\n",
    "        else: neg.append(val)\n",
    "    \n",
    "    n1, m1 = len(pos), len(neg)\n",
    "    i = 0\n",
    "    while i < n1 and i < m1:\n",
    "        arr[2*i] = pos[i]\n",
    "        arr[2*i+1] = neg[i]\n",
    "        i += 1\n",
    "    \n",
    "    i = 2*i\n",
    "    # if still there are any more pos\n",
    "    while i < n1:\n",
    "        arr[i] = pos[i]\n",
    "        i += 1\n",
    "    # if still there are any more neg\n",
    "    while i < m1:\n",
    "        arr[i] = neg[i]\n",
    "        i += 1\n",
    "    return arr\n",
    "\n",
    "arr = list(map(int, '9 4 -2 -1 5 0 -5 -3 2 -15 -20 -25'.split()))\n",
    "rearrange2(arr, len(arr))"
   ]
  },
  {
   "cell_type": "code",
   "execution_count": 13,
   "metadata": {},
   "outputs": [
    {
     "data": {
      "text/plain": [
       "[22, 12, 6]"
      ]
     },
     "execution_count": 13,
     "metadata": {},
     "output_type": "execute_result"
    }
   ],
   "source": [
    "# leaders in an array\n",
    "from typing import List\n",
    "def leaders(arr: List[int]):\n",
    "    # tc: O(n)\n",
    "    # sc: O(n)\n",
    "    n = len(arr)\n",
    "    res = [arr[-1]]\n",
    "    for i in range(n-2, -1, -1):\n",
    "        if arr[i] > res[-1]: res.append(arr[i])\n",
    "    return list(reversed(res))\n",
    "# leaders([4, 7, 1, 0])\n",
    "leaders([10, 22, 12, 3, 0, 6])"
   ]
  },
  {
   "cell_type": "code",
   "execution_count": null,
   "metadata": {},
   "outputs": [],
   "source": []
  }
 ],
 "metadata": {
  "kernelspec": {
   "display_name": "base",
   "language": "python",
   "name": "python3"
  },
  "language_info": {
   "codemirror_mode": {
    "name": "ipython",
    "version": 3
   },
   "file_extension": ".py",
   "mimetype": "text/x-python",
   "name": "python",
   "nbconvert_exporter": "python",
   "pygments_lexer": "ipython3",
   "version": "3.8.8"
  },
  "orig_nbformat": 4
 },
 "nbformat": 4,
 "nbformat_minor": 2
}
