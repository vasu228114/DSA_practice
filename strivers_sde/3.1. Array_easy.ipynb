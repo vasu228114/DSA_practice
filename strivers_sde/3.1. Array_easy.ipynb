{
 "cells": [
  {
   "cell_type": "code",
   "execution_count": 1,
   "metadata": {},
   "outputs": [
    {
     "data": {
      "text/plain": [
       "3"
      ]
     },
     "execution_count": 1,
     "metadata": {},
     "output_type": "execute_result"
    }
   ],
   "source": [
    "# Largest element in an array\n",
    "from typing import List\n",
    "def largest(arr: List):\n",
    "    res = arr[0]\n",
    "    for val in arr[1:]:\n",
    "        if val > res: res = val\n",
    "    return res\n",
    "largest([i for i in range(4)])"
   ]
  },
  {
   "cell_type": "code",
   "execution_count": 3,
   "metadata": {},
   "outputs": [
    {
     "data": {
      "text/plain": [
       "3"
      ]
     },
     "execution_count": 3,
     "metadata": {},
     "output_type": "execute_result"
    }
   ],
   "source": [
    "# second largest element in an array\n",
    "from typing import List\n",
    "def second_largest(arr: List):\n",
    "    largest, res = arr[0], None\n",
    "    for val in arr[1:]:\n",
    "        if val > largest: \n",
    "            res = largest\n",
    "            largest = val\n",
    "    return res\n",
    "second_largest([i for i in range(5)])"
   ]
  },
  {
   "cell_type": "code",
   "execution_count": null,
   "metadata": {},
   "outputs": [],
   "source": [
    "# for finding the kth element in an array\n",
    "# we need to sort the array first and then try to find the kth index element and return\n"
   ]
  },
  {
   "cell_type": "code",
   "execution_count": 6,
   "metadata": {},
   "outputs": [
    {
     "data": {
      "text/plain": [
       "False"
      ]
     },
     "execution_count": 6,
     "metadata": {},
     "output_type": "execute_result"
    }
   ],
   "source": [
    "# check if the array is sorted\n",
    "from typing import List\n",
    "def check_sorted(arr: List): # ascending order check\n",
    "    tmp = arr[0]\n",
    "    for val in arr:\n",
    "        if tmp > val: return False\n",
    "        tmp = val\n",
    "    return True\n",
    "check_sorted([i for i in range(5)] + [2])"
   ]
  },
  {
   "cell_type": "code",
   "execution_count": 10,
   "metadata": {},
   "outputs": [
    {
     "data": {
      "text/plain": [
       "[1, 2, 3]"
      ]
     },
     "execution_count": 10,
     "metadata": {},
     "output_type": "execute_result"
    }
   ],
   "source": [
    "# remove duplicates from sorted arr\n",
    "from typing import List\n",
    "def remove_duplicate(arr: List):\n",
    "    i, j = 0, 1\n",
    "    while i < len(arr) and j < len(arr):\n",
    "        if arr[i] == arr[j]: \n",
    "            j += 1\n",
    "        else:\n",
    "            i += 1\n",
    "            j += 1\n",
    "            arr[i] = arr[j]\n",
    "    return arr[:i+1]\n",
    "remove_duplicate([1,1,1,2,2,3,3,3])"
   ]
  },
  {
   "cell_type": "code",
   "execution_count": 17,
   "metadata": {},
   "outputs": [
    {
     "data": {
      "text/plain": [
       "[2, 3, 1]"
      ]
     },
     "execution_count": 17,
     "metadata": {},
     "output_type": "execute_result"
    }
   ],
   "source": [
    "# left rotate arr by 1\n",
    "from typing import List\n",
    "def left_rotate_1(arr: List):\n",
    "    tmp = arr[0]\n",
    "    for i in range(len(arr[:-1])):\n",
    "        arr[i] = arr[i+1]\n",
    "    arr[len(arr)-1] = tmp\n",
    "    return arr\n",
    "left_rotate_1([i for i in range(1,4)])"
   ]
  },
  {
   "cell_type": "code",
   "execution_count": 7,
   "metadata": {},
   "outputs": [
    {
     "data": {
      "text/plain": [
       "[3, 1, 2]"
      ]
     },
     "execution_count": 7,
     "metadata": {},
     "output_type": "execute_result"
    }
   ],
   "source": [
    "# left rotate arr by d places\n",
    "from typing import List\n",
    "def left_rotate_k(arr: List, k: int): \n",
    "    # Approach:\n",
    "    # 1. reverse the elements that are present before kth place \n",
    "    # 2. reverse the elements that are after the kth place\n",
    "    # 3. reverse the entire array for the operations that we have performed so far\n",
    "    \n",
    "    k = k%len(arr) # if value of k is larger than array, \n",
    "\n",
    "    # defining the reverse function\n",
    "    def reverse_arr(arr, l, r):\n",
    "        while l < r:\n",
    "            arr[l], arr[r] = arr[r], arr[l]\n",
    "            l += 1\n",
    "            r -= 1\n",
    "        return arr\n",
    "\n",
    "    # 1. reverse the elements before kth place\n",
    "    arr = reverse_arr(arr, 0, k-1)\n",
    "    # 2. reverse the elements that are after the kth place\n",
    "    arr = reverse_arr(arr, k, len(arr)-1)\n",
    "    # 3. reverse the entire array\n",
    "    arr = reverse_arr(arr, 0, len(arr)-1)\n",
    "    return arr\n",
    "\n",
    "left_rotate_k([i for i in range(1,4)], 5)"
   ]
  },
  {
   "cell_type": "code",
   "execution_count": 3,
   "metadata": {},
   "outputs": [
    {
     "data": {
      "text/plain": [
       "[3, 4, 0, 1, 2]"
      ]
     },
     "execution_count": 3,
     "metadata": {},
     "output_type": "execute_result"
    }
   ],
   "source": [
    "# right rotate an array by d places\n",
    "from typing import List\n",
    "def right_rotate_d(arr: List, d: int):\n",
    "    d = d % len(arr)\n",
    "    def reverse(arr, l, r):\n",
    "        while l < r:\n",
    "            arr[l], arr[r] = arr[r], arr[l]\n",
    "            l += 1\n",
    "            r -= 1\n",
    "        return arr\n",
    "    # reversing the array before d\n",
    "    n = len(arr)-1\n",
    "    arr = reverse(arr, 0, n-d)\n",
    "\n",
    "    # reversing the array after d\n",
    "    arr  = reverse(arr, n-d+1, n)\n",
    "\n",
    "    # reversing the entire array\n",
    "    arr = reverse(arr, 0, n)\n",
    "    return arr\n",
    "right_rotate_d([i for i in range(5)], 2)\n"
   ]
  },
  {
   "cell_type": "code",
   "execution_count": 33,
   "metadata": {},
   "outputs": [
    {
     "data": {
      "text/plain": [
       "([1, 2, 3, 0, 0], 0, 0)"
      ]
     },
     "execution_count": 33,
     "metadata": {},
     "output_type": "execute_result"
    }
   ],
   "source": [
    "# move zeroes to the end\n",
    "from typing import List\n",
    "def move_zeroes(arr: List):\n",
    "    i = 0\n",
    "    for j in range(len(arr)):\n",
    "        if arr[j] != 0: \n",
    "            arr[i], arr[j] = arr[j], arr[i]\n",
    "            i += 1\n",
    "    return arr, arr[i], arr[j]\n",
    "move_zeroes([1, 0, 0, 2, 3]) "
   ]
  },
  {
   "cell_type": "code",
   "execution_count": 35,
   "metadata": {},
   "outputs": [
    {
     "data": {
      "text/plain": [
       "False"
      ]
     },
     "execution_count": 35,
     "metadata": {},
     "output_type": "execute_result"
    }
   ],
   "source": [
    "# linear search\n",
    "from typing import List\n",
    "def linear_search(arr: List, k: int):\n",
    "    for val in arr:\n",
    "        if val == k: return True\n",
    "    return False\n",
    "linear_search([i for i in range(4)], -1)"
   ]
  },
  {
   "cell_type": "code",
   "execution_count": 53,
   "metadata": {},
   "outputs": [
    {
     "data": {
      "text/plain": [
       "(None, [])"
      ]
     },
     "execution_count": 53,
     "metadata": {},
     "output_type": "execute_result"
    }
   ],
   "source": [
    "# union and intersection of 2 sorted arrays\n",
    "# *** revisit and solve\n",
    "from typing import List\n",
    "def union_and_intersection(arr1: List, arr2: List):\n",
    "    intersection = []\n",
    "    i, j, n1, n2 = 0, 0, len(arr1), len(arr2)\n",
    "    for j in range(len(arr2)):\n",
    "        if i < n1:\n",
    "            if arr1[i] == arr2[j]: \n",
    "                intersection.append(arr1[i])\n",
    "                i += 1\n",
    "    return arr1.extend(arr2), intersection\n",
    "arr1 = [1,2,3,3,4,5,6,7]\n",
    "arr2 = [3,3,4,4,5,8]\n",
    "union_and_intersection(arr1, arr2)"
   ]
  },
  {
   "cell_type": "code",
   "execution_count": 18,
   "metadata": {},
   "outputs": [
    {
     "data": {
      "text/plain": [
       "8"
      ]
     },
     "execution_count": 18,
     "metadata": {},
     "output_type": "execute_result"
    }
   ],
   "source": [
    "# missing numbers in an array\n",
    "def missing_num(arr: List, n: int):\n",
    "    nums = [i for i in range(1,n+1)]\n",
    "    for val in nums:\n",
    "        if val not in arr:\n",
    "            return val\n",
    "    return False\n",
    "# missing_num(n = 5, arr = [1,2,4,5])\n",
    "\n",
    "def missing_num(arr: List, n: int):\n",
    "    sum1, sum2 = (n*(n+1))//2, 0\n",
    "    for val in arr:\n",
    "        sum2 += val\n",
    "    return sum1-sum2\n",
    "missing_num([1,2,4,5,6,7,3], 8)\n",
    "\n",
    "# def missing_num(arr: List, n: int):\n",
    "#     xor1, xor2 = 0, 0\n",
    "#     for i in range(len(arr)):\n",
    "#         xor1 ^= arr[i]\n",
    "#         xor2 ^= n-i\n",
    "#     xor2 ^= 1\n",
    "#     return xor1 ^ xor2\n",
    "# missing_num([1,2,4,5,6,7,3], 8)"
   ]
  },
  {
   "cell_type": "code",
   "execution_count": 1,
   "metadata": {},
   "outputs": [
    {
     "data": {
      "text/plain": [
       "2"
      ]
     },
     "execution_count": 1,
     "metadata": {},
     "output_type": "execute_result"
    }
   ],
   "source": [
    "def max_one(arr):\n",
    "    res, tmp = 0, 0\n",
    "    for j in range(len(arr)):\n",
    "        if arr[j] == 1:\n",
    "            tmp += 1\n",
    "            res = max(res, tmp)\n",
    "        else: tmp = 0\n",
    "    return res\n",
    "max_one([1, 0, 0, 1, 1, 0, 1, 0])"
   ]
  },
  {
   "cell_type": "code",
   "execution_count": 55,
   "metadata": {},
   "outputs": [
    {
     "ename": "TypeError",
     "evalue": "unsupported operand type(s) for ^: 'list' and 'list'",
     "output_type": "error",
     "traceback": [
      "\u001b[1;31m---------------------------------------------------------------------------\u001b[0m",
      "\u001b[1;31mTypeError\u001b[0m                                 Traceback (most recent call last)",
      "\u001b[1;32mc:\\Users\\bonalavasudevar\\Downloads\\gfg_practice\\strivers_sde\\3.1. Array_easy.ipynb Cell 13\u001b[0m in \u001b[0;36m<cell line: 3>\u001b[1;34m()\u001b[0m\n\u001b[0;32m      <a href='vscode-notebook-cell:/c%3A/Users/bonalavasudevar/Downloads/gfg_practice/strivers_sde/3.1.%20Array_easy.ipynb#X16sZmlsZQ%3D%3D?line=0'>1</a>\u001b[0m arr \u001b[39m=\u001b[39m [\u001b[39m1\u001b[39m,\u001b[39m3\u001b[39m,\u001b[39m0\u001b[39m]\n\u001b[0;32m      <a href='vscode-notebook-cell:/c%3A/Users/bonalavasudevar/Downloads/gfg_practice/strivers_sde/3.1.%20Array_easy.ipynb#X16sZmlsZQ%3D%3D?line=1'>2</a>\u001b[0m xor \u001b[39m=\u001b[39m [i \u001b[39mfor\u001b[39;00m i \u001b[39min\u001b[39;00m \u001b[39mrange\u001b[39m(\u001b[39m4\u001b[39m)]\n\u001b[1;32m----> <a href='vscode-notebook-cell:/c%3A/Users/bonalavasudevar/Downloads/gfg_practice/strivers_sde/3.1.%20Array_easy.ipynb#X16sZmlsZQ%3D%3D?line=2'>3</a>\u001b[0m arr \u001b[39m^\u001b[39;49m xor\n",
      "\u001b[1;31mTypeError\u001b[0m: unsupported operand type(s) for ^: 'list' and 'list'"
     ]
    }
   ],
   "source": [
    "# Python3 code for the above approach\n",
    "\n",
    "def maximized_one(arr,n,m):\n",
    "  \n",
    "    # Left array\n",
    "    left = [0]*n\n",
    "    \n",
    "    # Right array\n",
    "    right = [0]*n       \n",
    "    \n",
    "    # Array will contain zeroes position\n",
    "    zero_pos = []       \n",
    "    \n",
    "    # Stores count\n",
    "    count = 0           \n",
    "    previous_index_of_zero = -1\n",
    "    for i in range(n):\n",
    "        if arr[i] == 1:\n",
    "            count+=1\n",
    "        if arr[i] == 0:\n",
    "            left[i] = count\n",
    "            zero_pos.append(i)\n",
    "            if previous_index_of_zero !=i and previous_index_of_zero!=-1:\n",
    "                right[previous_index_of_zero] = count\n",
    "            count = 0\n",
    "            \n",
    "            # To keep track of the previous index of zeroes\n",
    "            previous_index_of_zero = i          \n",
    "    right[previous_index_of_zero] = count      \n",
    "\n",
    "    # print(left)\n",
    "    # print(right)\n",
    "    # print(zero_pos)\n",
    "maximized_one([1, 0, 0, 1, 1, 0, 1, 0])"
   ]
  },
  {
   "cell_type": "code",
   "execution_count": 3,
   "metadata": {},
   "outputs": [
    {
     "data": {
      "text/plain": [
       "4"
      ]
     },
     "execution_count": 3,
     "metadata": {},
     "output_type": "execute_result"
    }
   ],
   "source": [
    "# Find the number that appears once, and other numbers twice.\n",
    "from typing import List\n",
    "def singleNumber(self, nums: List[int]) -> int:\n",
    "    # using dictionaries\n",
    "    d = {}\n",
    "    for val in nums:\n",
    "        d[val] = d.get(val, 0) + 1\n",
    "    for key, val in d.items():\n",
    "        if val == 1: return key\n",
    "    return False \n",
    "\n",
    "def singleNumber(nums: List[int]) -> int:\n",
    "    # using xor\n",
    "    res = 0\n",
    "    for val in nums:\n",
    "        res ^= val\n",
    "    return res\n",
    "singleNumber(nums = [4,1,2,1,2])"
   ]
  },
  {
   "cell_type": "code",
   "execution_count": null,
   "metadata": {},
   "outputs": [],
   "source": [
    "# Longest subarray with given sum(Positives)\n",
    "def longest_sub_arr(arr: List, k: int):\n",
    "    res = 0\n",
    "    for i in range(len(arr)):\n",
    "        for j in range()\n"
   ]
  }
 ],
 "metadata": {
  "kernelspec": {
   "display_name": "base",
   "language": "python",
   "name": "python3"
  },
  "language_info": {
   "codemirror_mode": {
    "name": "ipython",
    "version": 3
   },
   "file_extension": ".py",
   "mimetype": "text/x-python",
   "name": "python",
   "nbconvert_exporter": "python",
   "pygments_lexer": "ipython3",
   "version": "3.8.8"
  },
  "orig_nbformat": 4
 },
 "nbformat": 4,
 "nbformat_minor": 2
}
