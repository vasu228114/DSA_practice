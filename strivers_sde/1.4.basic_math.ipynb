{
 "cells": [
  {
   "cell_type": "code",
   "execution_count": 5,
   "metadata": {},
   "outputs": [
    {
     "data": {
      "text/plain": [
       "5"
      ]
     },
     "execution_count": 5,
     "metadata": {},
     "output_type": "execute_result"
    }
   ],
   "source": [
    "# count no.of digits in a number\n",
    "def count_dig(n: int):\n",
    "    res = 0\n",
    "    while n > 0:\n",
    "        n //= 10\n",
    "        res += 1\n",
    "    return res\n",
    "count_dig(12345)"
   ]
  },
  {
   "cell_type": "code",
   "execution_count": 7,
   "metadata": {},
   "outputs": [
    {
     "data": {
      "text/plain": [
       "1"
      ]
     },
     "execution_count": 7,
     "metadata": {},
     "output_type": "execute_result"
    }
   ],
   "source": [
    "# reverse a number\n",
    "def reverse_num(n: int):\n",
    "    res = 0\n",
    "    while n > 0:\n",
    "        res = res * 10 + n % 10\n",
    "        n //= 10\n",
    "    return res\n",
    "reverse_num(100) "
   ]
  },
  {
   "cell_type": "code",
   "execution_count": 12,
   "metadata": {},
   "outputs": [
    {
     "data": {
      "text/plain": [
       "True"
      ]
     },
     "execution_count": 12,
     "metadata": {},
     "output_type": "execute_result"
    }
   ],
   "source": [
    "# check palindrome\n",
    "def check_palindrome(n: int):\n",
    "    res = 0\n",
    "    tmp = n\n",
    "    while n > 0:\n",
    "        res = res * 10 + n % 10\n",
    "        n //= 10\n",
    "    return res == tmp\n",
    "check_palindrome(12321)"
   ]
  },
  {
   "cell_type": "code",
   "execution_count": 29,
   "metadata": {},
   "outputs": [
    {
     "data": {
      "text/plain": [
       "1"
      ]
     },
     "execution_count": 29,
     "metadata": {},
     "output_type": "execute_result"
    }
   ],
   "source": [
    "# gcd of 2 numbers\n",
    "# O(log n)\n",
    "def gcd(n1: int, n2: int):\n",
    "    while n1 > 0 and n2 > 0:\n",
    "        if n1 > n2: n1 = n1 % n2\n",
    "        else: n2 = n2 % n1\n",
    "    if n1 == 0: return n2\n",
    "    return n1\n",
    "gcd(11, 13)   "
   ]
  },
  {
   "cell_type": "code",
   "execution_count": 1,
   "metadata": {},
   "outputs": [
    {
     "data": {
      "text/plain": [
       "1"
      ]
     },
     "execution_count": 1,
     "metadata": {},
     "output_type": "execute_result"
    }
   ],
   "source": [
    "# 52, 10\n",
    "# 2, 10\n",
    "# 2, 5\n",
    "# 2, 1\n",
    "# 1, 1\n"
   ]
  },
  {
   "cell_type": "code",
   "execution_count": 24,
   "metadata": {},
   "outputs": [
    {
     "data": {
      "text/plain": [
       "False"
      ]
     },
     "execution_count": 24,
     "metadata": {},
     "output_type": "execute_result"
    }
   ],
   "source": [
    "# check if armstrong number or not\n",
    "# O(n) solution:\n",
    "def armstrong(n: int):\n",
    "    tmp, tmp2 = n, n\n",
    "    res, count = 0, 0\n",
    "    \n",
    "    # counting the len of the number\n",
    "    while tmp > 0:\n",
    "        tmp //= 10\n",
    "        count += 1\n",
    "    \n",
    "    # doing the math for armstrong\n",
    "    while n > 0:\n",
    "        res += (n%10) ** count\n",
    "        n //= 10\n",
    "\n",
    "    return res == tmp2\n",
    "armstrong(1534)"
   ]
  },
  {
   "cell_type": "code",
   "execution_count": 22,
   "metadata": {},
   "outputs": [
    {
     "name": "stdout",
     "output_type": "stream",
     "text": [
      "[1, 2, 4, 5, 8, 10, 20, 25, 40, 50, 100, 125, 200, 250, 500, 625, 1000, 1250, 2500, 5000]\n",
      "[1, 5000, 2, 2500, 4, 1250, 5, 1000, 8, 625, 10, 500, 20, 250, 25, 200, 40, 125, 50, 100]\n"
     ]
    }
   ],
   "source": [
    "# print all divisors of a give number\n",
    "# O(n) solution:\n",
    "def all_divisors(n: int):\n",
    "    res = [1]\n",
    "    for i in range(2, n+1):\n",
    "        if n%i == 0: res.append(i)\n",
    "    return res\n",
    "print(all_divisors(5000))\n",
    "\n",
    "# O(sqrt(n)) solution:\n",
    "def all_divisors2(n: int):\n",
    "    res = [1,n]\n",
    "    for i in range(2, int((n**.5))+1):\n",
    "        if n%i == 0: res.append(i)\n",
    "        if n%int(n/i) == 0 and i != int(n/i): res.append(int(n/i))\n",
    "    return res\n",
    "print(all_divisors2(5000))"
   ]
  },
  {
   "cell_type": "code",
   "execution_count": 21,
   "metadata": {},
   "outputs": [
    {
     "data": {
      "text/plain": [
       "False"
      ]
     },
     "execution_count": 21,
     "metadata": {},
     "output_type": "execute_result"
    }
   ],
   "source": [
    "# check if number is prime\n",
    "# O(sqrt(n)) solution:\n",
    "def check_prime(n: int):\n",
    "    for i in range(2, int(n**.5)):\n",
    "        if n%i == 0: return False\n",
    "    return True\n",
    "check_prime(700)"
   ]
  },
  {
   "cell_type": "code",
   "execution_count": null,
   "metadata": {},
   "outputs": [],
   "source": []
  }
 ],
 "metadata": {
  "kernelspec": {
   "display_name": "base",
   "language": "python",
   "name": "python3"
  },
  "language_info": {
   "codemirror_mode": {
    "name": "ipython",
    "version": 3
   },
   "file_extension": ".py",
   "mimetype": "text/x-python",
   "name": "python",
   "nbconvert_exporter": "python",
   "pygments_lexer": "ipython3",
   "version": "3.8.8"
  },
  "orig_nbformat": 4
 },
 "nbformat": 4,
 "nbformat_minor": 2
}
