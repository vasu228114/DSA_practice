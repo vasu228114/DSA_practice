{
 "cells": [
  {
   "cell_type": "code",
   "execution_count": 1,
   "metadata": {},
   "outputs": [
    {
     "name": "stdout",
     "output_type": "stream",
     "text": [
      "1 \n",
      "1 2 \n",
      "1 2 3 \n",
      "1 2 3 4 \n",
      "1 2 3 4 5 \n"
     ]
    }
   ],
   "source": [
    "# pattern:\n",
    "# 1\n",
    "# 1 2\n",
    "# 1 2 3 \n",
    "# 1 2 3 4\n",
    "# 1 2 3 4 5\n",
    "def pattern1(n: int):\n",
    "    for i in range(1, n+1):\n",
    "        for j in range(1, i+1):\n",
    "            print(j, end=' ')\n",
    "        print()\n",
    "pattern1(5)"
   ]
  },
  {
   "cell_type": "code",
   "execution_count": 2,
   "metadata": {},
   "outputs": [
    {
     "name": "stdout",
     "output_type": "stream",
     "text": [
      "1 \n",
      "2 2 \n",
      "3 3 3 \n",
      "4 4 4 4 \n",
      "5 5 5 5 5 \n"
     ]
    }
   ],
   "source": [
    "# pattern:\n",
    "# 1\n",
    "# 2 2\n",
    "# 3 3 3\n",
    "# 4 4 4 4\n",
    "# 5 5 5 5 5\n",
    "def pattern2(n: int):\n",
    "    for i in range(1, n+1):\n",
    "        for j in range(1, i+1):\n",
    "            print(i, end = ' ')\n",
    "        print()\n",
    "pattern2(5)"
   ]
  },
  {
   "cell_type": "code",
   "execution_count": 3,
   "metadata": {},
   "outputs": [
    {
     "name": "stdout",
     "output_type": "stream",
     "text": [
      "1 2 3 4 5 \n",
      "1 2 3 4 \n",
      "1 2 3 \n",
      "1 2 \n",
      "1 \n"
     ]
    }
   ],
   "source": [
    "# pattern:\n",
    "# 1 2 3 4 5\n",
    "# 1 2 3 4\n",
    "# 1 2 3\n",
    "# 1 2\n",
    "# 1\n",
    "def pattern3(n: int):\n",
    "    for i in range(n, 0, -1):\n",
    "        for j in range(1, i+1):\n",
    "            print(j, end=' ')\n",
    "        print()\n",
    "pattern3(5)"
   ]
  },
  {
   "cell_type": "code",
   "execution_count": 6,
   "metadata": {},
   "outputs": [
    {
     "name": "stdout",
     "output_type": "stream",
     "text": [
      "     *     \n",
      "    ***    \n",
      "   *****   \n",
      "  *******  \n",
      " ********* \n"
     ]
    }
   ],
   "source": [
    "# pattern: (a little tricky)\n",
    "#   *   \n",
    "#  ***  \n",
    "# *****\n",
    "def pattern4(n: int):\n",
    "    for i in range(n):\n",
    "        # space\n",
    "        for j in range(n-i):\n",
    "            print(end=' ')\n",
    "        #star\n",
    "        for j in range((2*i)+1):\n",
    "            print('*',end='')\n",
    "        # space\n",
    "        for j in range(n-i):\n",
    "            print(end=' ')\n",
    "        print()\n",
    "pattern4(5)"
   ]
  },
  {
   "cell_type": "code",
   "execution_count": 7,
   "metadata": {},
   "outputs": [
    {
     "name": "stdout",
     "output_type": "stream",
     "text": [
      " ***** \n",
      "  ***  \n",
      "   *   \n"
     ]
    }
   ],
   "source": [
    "# pattern: (same like the above one but in reverse)\n",
    "def pattern5(n: int):\n",
    "    for i in range(n-1, -1, -1):\n",
    "        # space\n",
    "        for j in range(0, n-i):\n",
    "            print(end=' ')\n",
    "        \n",
    "        # star\n",
    "        for j in range((2*i)+1):\n",
    "            print('*', end='')\n",
    "        \n",
    "        # space\n",
    "        for j in range(0, n-i):\n",
    "            print(end=' ')\n",
    "        print()\n",
    "pattern5(3)"
   ]
  },
  {
   "cell_type": "code",
   "execution_count": 10,
   "metadata": {},
   "outputs": [
    {
     "name": "stdout",
     "output_type": "stream",
     "text": [
      "     *     \n",
      "    ***    \n",
      "   *****   \n",
      "  *******  \n",
      " ********* \n",
      " ********* \n",
      "  *******  \n",
      "   *****   \n",
      "    ***    \n",
      "     *     \n"
     ]
    }
   ],
   "source": [
    "# pattern: need to use 2 functions (little tricky)\n",
    "# rombus star\n",
    "def pattern6(n: int):\n",
    "    pattern4(n)\n",
    "    pattern5(n)\n",
    "pattern6(5)"
   ]
  },
  {
   "cell_type": "code",
   "execution_count": 13,
   "metadata": {},
   "outputs": [
    {
     "name": "stdout",
     "output_type": "stream",
     "text": [
      "*\n",
      "**\n",
      "***\n",
      "****\n",
      "*****\n",
      "****\n",
      "***\n",
      "**\n",
      "*\n"
     ]
    }
   ],
   "source": [
    "# pattern:\n",
    "def pattern7(n: int):\n",
    "    \n",
    "    def sub_pattern1(n: int):\n",
    "        # right triangle\n",
    "        for i in range(n):\n",
    "            for j in range(i+1):\n",
    "                print('*', end='')\n",
    "            print()\n",
    "    \n",
    "    def sub_pattern2(n: int):\n",
    "        # reverse right triangle\n",
    "        for i in range(n-2, -1, -1):\n",
    "            for j in range(i+1):\n",
    "                print('*', end='')\n",
    "            print()\n",
    "    sub_pattern1(n)\n",
    "    sub_pattern2(n)\n",
    "pattern7(5)\n"
   ]
  },
  {
   "cell_type": "code",
   "execution_count": 18,
   "metadata": {},
   "outputs": [
    {
     "name": "stdout",
     "output_type": "stream",
     "text": [
      "1 \n",
      "0 1 \n",
      "1 0 1 \n",
      "0 1 0 1 \n",
      "1 0 1 0 1 \n"
     ]
    }
   ],
   "source": [
    "# pattern:\n",
    "# 1\n",
    "# 0 1\n",
    "# 1 0 1\n",
    "# 0 1 0 1\n",
    "def pattern8(n: int):\n",
    "    for i in range(n):\n",
    "        for j in range(i+1):\n",
    "            if (i+j)&1: print('0', end=' ')\n",
    "            else: print('1', end=' ')\n",
    "        print()\n",
    "pattern8(5)"
   ]
  },
  {
   "cell_type": "code",
   "execution_count": 46,
   "metadata": {},
   "outputs": [
    {
     "name": "stdout",
     "output_type": "stream",
     "text": [
      "1      1\n",
      "12    21\n",
      "123  321\n",
      "12344321\n"
     ]
    }
   ],
   "source": [
    "# pattern:\n",
    "def pattern12(n: int):\n",
    "    for i in range(1,n):\n",
    "        # first part\n",
    "        for j in range(1,n):\n",
    "            if j<=i: print(j, end='')\n",
    "            else: print(end=' ')\n",
    "        \n",
    "        # second part\n",
    "        for j in range(n-1, 0, -1):\n",
    "            if j > i: print(end=' ')\n",
    "            else: print(j, end='')\n",
    "  \n",
    "        print()\n",
    "pattern9(5)"
   ]
  },
  {
   "cell_type": "code",
   "execution_count": 54,
   "metadata": {},
   "outputs": [
    {
     "name": "stdout",
     "output_type": "stream",
     "text": [
      "1 \n",
      "2 3 \n",
      "4 5 6 \n",
      "7 8 9 10 \n",
      "11 12 13 14 15 \n"
     ]
    }
   ],
   "source": [
    "# pattern\n",
    "def pattern13(n: int):\n",
    "    count = 0\n",
    "    for i in range(n):\n",
    "        for j in range(i+1):\n",
    "            count += 1\n",
    "            print(count,end=' ')\n",
    "        print()\n",
    "pattern13(5)"
   ]
  },
  {
   "cell_type": "code",
   "execution_count": 60,
   "metadata": {},
   "outputs": [
    {
     "name": "stdout",
     "output_type": "stream",
     "text": [
      "A\n",
      "AB\n",
      "ABC\n",
      "ABCD\n",
      "ABCDE\n",
      "ABCDEF\n"
     ]
    }
   ],
   "source": [
    "# pattern\n",
    "def pattern14(n: int):\n",
    "    for i in range(n+1):\n",
    "        for j in range(i+1):\n",
    "            print(chr(65+j), end='')\n",
    "        print()\n",
    "pattern14(5)"
   ]
  },
  {
   "cell_type": "code",
   "execution_count": 61,
   "metadata": {},
   "outputs": [
    {
     "name": "stdout",
     "output_type": "stream",
     "text": [
      "A\n",
      "BB\n",
      "CCC\n",
      "DDDD\n",
      "EEEEE\n",
      "FFFFFF\n"
     ]
    }
   ],
   "source": [
    "def pattern16(n: int):\n",
    "    for i in range(n+1):\n",
    "        for j in range(i+1):\n",
    "            print(chr(65+i), end='')\n",
    "        print()\n",
    "pattern16(5)"
   ]
  },
  {
   "cell_type": "code",
   "execution_count": 81,
   "metadata": {},
   "outputs": [
    {
     "name": "stdout",
     "output_type": "stream",
     "text": [
      "   A   \n",
      "  ABA  \n",
      " ABCBA \n",
      "ABCDCBA\n"
     ]
    }
   ],
   "source": [
    "# pattern: took a little while to solve this\n",
    "def pattern17(n: int):\n",
    "    def sub_pattern1(n):\n",
    "        for i in range(n):\n",
    "            # space\n",
    "            for j in range(n-i-1):\n",
    "                print(end=' ')\n",
    "            # alphabets_pattern1\n",
    "            for j in range(i+1):\n",
    "                print(chr(65+j),end='')\n",
    "            # alphabets pattern2\n",
    "            for j in range(i, -1, -1):\n",
    "                if j == i: pass\n",
    "                else: print(chr(65+j), end='')\n",
    "            # space\n",
    "            for j in range(n-i-1):\n",
    "                print(end=' ')\n",
    "            print()\n",
    "    # def sub_pattern2(n):\n",
    "    #     print()\n",
    "    #     for i in range(n-1):\n",
    "    #         for j in range(i+1):\n",
    "    #             print(chr(65+j),end='')\n",
    "    #         print()\n",
    "    sub_pattern1(n)\n",
    "    # sub_pattern2(n)\n",
    "pattern17(4)"
   ]
  },
  {
   "cell_type": "code",
   "execution_count": 96,
   "metadata": {},
   "outputs": [
    {
     "name": "stdout",
     "output_type": "stream",
     "text": [
      "E\n",
      "ED\n",
      "EDC\n",
      "EDCB\n",
      "EDCBA\n"
     ]
    }
   ],
   "source": [
    "# pattern: took a little while\n",
    "def pattern18(n: int):\n",
    "    for i in range(n):\n",
    "        for j in range(i+1):\n",
    "            print(chr(91-26+n-1-j),end='')\n",
    "        print()\n",
    "pattern18(5)"
   ]
  },
  {
   "cell_type": "code",
   "execution_count": 99,
   "metadata": {},
   "outputs": [
    {
     "name": "stdout",
     "output_type": "stream",
     "text": [
      "*****\n",
      "****\n",
      "***\n",
      "**\n",
      "*\n"
     ]
    }
   ],
   "source": [
    "def pattern19(n: int):\n",
    "    for i in range(n):\n",
    "        # sub_pattern1_1\n",
    "        for j in range(n):\n",
    "            if j > n-i+1: print('*',end='')\n",
    "            else: print(end=' ')\n",
    "        print()\n",
    "    for i in range(n):\n",
    "        # sub_pattern2_1\n",
    "        for j in range(n):\n",
    "            if j <= i+1: print('*', end='')\n",
    "            else: print(end=' ') \n",
    "pattern19(5)"
   ]
  },
  {
   "cell_type": "code",
   "execution_count": 144,
   "metadata": {},
   "outputs": [
    {
     "name": "stdout",
     "output_type": "stream",
     "text": [
      "*****\n",
      "**** \n",
      "***  \n",
      "**   \n",
      "*    \n",
      "*    \n",
      "**   \n",
      "***  \n",
      "**** \n",
      "*****\n"
     ]
    }
   ],
   "source": [
    "def pattern19(n: int):\n",
    "    for i in range(n, 0, -1):\n",
    "        print('*'*i,end=' '*(n-i))\n",
    "        print()\n",
    "    for i in range(1,n+1):\n",
    "        print('*'*i, end=' '*(n-i))\n",
    "        print()\n",
    "pattern19(5)"
   ]
  },
  {
   "cell_type": "code",
   "execution_count": 172,
   "metadata": {},
   "outputs": [
    {
     "name": "stdout",
     "output_type": "stream",
     "text": [
      "**********\n",
      "****  ****\n",
      "***    ***\n",
      "**      **\n",
      "*        *\n",
      "*        *\n",
      "**      **\n",
      "***    ***\n",
      "****  ****\n",
      "**********\n"
     ]
    }
   ],
   "source": [
    "# pattern: (took a while to develop the pattern)\n",
    "def pattern19(n: int):\n",
    "    for i in range(n, 0, -1):\n",
    "        for j in range(0, 2*n, n):\n",
    "            # print(j)\n",
    "            if j < n: \n",
    "                print('*'*i,end=' '*(n-i))\n",
    "            elif j >= n:\n",
    "                print(' '*(n-i), end='*'*i)\n",
    "        print()\n",
    "    for i in range(1,n+1):\n",
    "        for j in range(0, 2*n, n):\n",
    "            if j < n:\n",
    "                print('*'*i, end=' '*(n-i))\n",
    "            elif j >=n:\n",
    "                print(' '*(n-i), end='*'*i)\n",
    "        print()\n",
    "pattern19(5)"
   ]
  },
  {
   "cell_type": "code",
   "execution_count": 9,
   "metadata": {},
   "outputs": [
    {
     "name": "stdout",
     "output_type": "stream",
     "text": [
      "*        *\n",
      "**      **\n",
      "***    ***\n",
      "****  ****\n",
      "**********\n",
      "****  ****\n",
      "***    ***\n",
      "**      **\n",
      "*        *\n"
     ]
    }
   ],
   "source": [
    "def pattern20(n: int):\n",
    "    for i in range(1, n+1):\n",
    "        print('*'*i, end=' '*(n-i))\n",
    "        print(' '*(n-i),end='*'*i)\n",
    "        print()\n",
    "    for i in range(n-1, 0, -1):\n",
    "        print('*'*i, end=' '*(n-i))\n",
    "        print(' '*(n-i),end='*'*i)\n",
    "        print()\n",
    "pattern20(5)"
   ]
  },
  {
   "cell_type": "code",
   "execution_count": 121,
   "metadata": {},
   "outputs": [
    {
     "name": "stdout",
     "output_type": "stream",
     "text": [
      "****\n",
      "*  *\n",
      "*  *\n",
      "****\n"
     ]
    }
   ],
   "source": [
    "def pattern21(n: int):\n",
    "    for i in range(1,n+1):\n",
    "        for j in range(1,n+1):\n",
    "            if i==1 or i==n or j==1 or j==n: print('*', end='')\n",
    "            else: print(end=\" \")\n",
    "        print()\n",
    "pattern21(4)"
   ]
  },
  {
   "cell_type": "code",
   "execution_count": null,
   "metadata": {},
   "outputs": [],
   "source": [
    "# ** pattern: need to revisit \n",
    "def pattern22(n: int):\n",
    "    for i in range(2*n):\n",
    "        # 1st condition\n",
    "        if i < n:\n",
    "            for j in range()"
   ]
  },
  {
   "cell_type": "code",
   "execution_count": 127,
   "metadata": {},
   "outputs": [
    {
     "name": "stdout",
     "output_type": "stream",
     "text": [
      "000000000\n",
      "000000000\n",
      "111111111\n",
      "111111111\n",
      "222222222\n",
      "222222222\n",
      "111111111\n",
      "111111111\n",
      "000000000\n"
     ]
    }
   ],
   "source": [
    "n = 4\n",
    "for i in range(2*n, -1, -1):\n",
    "    for j in range(2*n, -1, -1):\n",
    "        if i >= 0 and i <= n: print((i+1)//2, end='')\n",
    "        elif i > n or i <= 2*n-1: print(n-((i+1)//2),end='')\n",
    "    print()"
   ]
  },
  {
   "cell_type": "code",
   "execution_count": 20,
   "metadata": {},
   "outputs": [
    {
     "name": "stdout",
     "output_type": "stream",
     "text": [
      "4 4 4 4 4 4 4 \n",
      "3 3 3 3 3 3 3 \n",
      "2 2 2 2 2 2 2 \n",
      "1 1 1 1 1 1 1 \n",
      "2 2 2 2 2 2 2 \n",
      "3 3 3 3 3 3 3 \n",
      "4 4 4 4 4 4 4 \n"
     ]
    }
   ],
   "source": [
    "n=4\n",
    "for i in range(2*n-1):\n",
    "    for j in range(2*n-1):\n",
    "        if i < n: print(n-i,end=' ')\n",
    "        else: print(i+2-n, end=' ')\n",
    "    print()"
   ]
  },
  {
   "cell_type": "code",
   "execution_count": 53,
   "metadata": {},
   "outputs": [
    {
     "name": "stdout",
     "output_type": "stream",
     "text": [
      "4 4 4 4 \n",
      "4 3 3 3 \n",
      "4 3 2 2 \n",
      "4 3 2 1 \n",
      "4 3 2 1 \n",
      "4 3 2 2 \n",
      "4 3 3 3 \n"
     ]
    }
   ],
   "source": [
    "n=4\n",
    "for i in range(n):\n",
    "    for j in range(n):\n",
    "        if i < n and j < n: print(max(n-i, n-j),end=' ')\n",
    "        # elif i >= n and j >= n: print(max(i+2-n, j+2-n), end=' ')\n",
    "    print()\n",
    "for i in range(n-1, 0, -1):\n",
    "    for j in range(n):\n",
    "        print(max(n-i, n-j), end=' ')\n",
    "    print()"
   ]
  },
  {
   "cell_type": "code",
   "execution_count": null,
   "metadata": {},
   "outputs": [],
   "source": []
  }
 ],
 "metadata": {
  "kernelspec": {
   "display_name": "base",
   "language": "python",
   "name": "python3"
  },
  "language_info": {
   "codemirror_mode": {
    "name": "ipython",
    "version": 3
   },
   "file_extension": ".py",
   "mimetype": "text/x-python",
   "name": "python",
   "nbconvert_exporter": "python",
   "pygments_lexer": "ipython3",
   "version": "3.8.8"
  },
  "orig_nbformat": 4
 },
 "nbformat": 4,
 "nbformat_minor": 2
}
